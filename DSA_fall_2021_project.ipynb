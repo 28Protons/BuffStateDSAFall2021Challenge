{
  "nbformat": 4,
  "nbformat_minor": 0,
  "metadata": {
    "colab": {
      "name": "DSA_fall_2021_project.ipynb",
      "provenance": [],
      "collapsed_sections": [],
      "authorship_tag": "ABX9TyPB8qEregWlMWDg8J/42uF/",
      "include_colab_link": true
    },
    "kernelspec": {
      "name": "python3",
      "display_name": "Python 3"
    },
    "language_info": {
      "name": "python"
    }
  },
  "cells": [
    {
      "cell_type": "markdown",
      "metadata": {
        "id": "view-in-github",
        "colab_type": "text"
      },
      "source": [
        "<a href=\"https://colab.research.google.com/github/28Protons/BuffStateDSAFall2021Challenge/blob/main/DSA_fall_2021_project.ipynb\" target=\"_parent\"><img src=\"https://colab.research.google.com/assets/colab-badge.svg\" alt=\"Open In Colab\"/></a>"
      ]
    },
    {
      "cell_type": "markdown",
      "metadata": {
        "id": "NklM5E_CPn5C"
      },
      "source": [
        "# **Your First Day On The Job**\n",
        "  You have just been hired by the city of Buffalo to work on their new high tech data analytics team. The Mayor is planning to receive realtime messages from citizens within a custom mobile app, and they want help getting to the heart of what life is like for each person they interact with. \n",
        "\n",
        "## The Project Scope\n",
        "  Given any Geocoordinates in the city, display the neighborhood the point is in, and tell us a story about that neighborhood. It could be crime stats for that neighborhood, the most common 311 call concerns, demographic breakdowns, a nice chart, a summarized series, or a table.\n",
        "\n",
        "  Fortunately, a volunteer developer has provided some mostly-working code that includes several data files and helper functions to access them as well as a simple demo. \n",
        "\n",
        "  An example function has been included `show_summary_for_coords(coods)` and it is called by default on the bottom of the script with a test address. \n",
        "\n",
        "\n",
        "## Notes from the Mayor\n",
        "  You might want to provide one ore more talking points about the data. You could say \"Theft is high in this area, this citizen might care about pubic safety policies\"\n",
        "\n",
        "  Your job is to tell any story that you think will help the me understand the neighborhood from where the citizen is messaging.\n",
        "\n",
        "## A Note from the Programmer\n",
        "   One of the datasets is missing lot of data for the names of neighborhoods, Public 311 data. If you want to use this dataset you may have to use either geocordinate distances with TurfPy, or create a computed column using the `find_neighborhood_by_point()` function or write a script to fix the data. It's not necessary but I encourage you to give it a try. \n",
        "\n",
        "## Constraints\n",
        "  You can use the preconfigured data included in the project or anything else from [Open Data Buffalo](https://data.buffalony.gov/), but keep in mind that unfortunately, The mobile app will go live tomorrow, so time is of the essence. You shouldn't worry too much about bells and whistles.\n",
        "\n",
        "  You do not need to worry about any mobile application development, or bulidng a mobile interface for your solution. Assume the mobile app is able to display the standard output from a command-line process and any image or markup formats. You can output your solution to standard out, or write it to a file. It only needs to process 1 citizen at a time. \n",
        "\n",
        "## Enviroment Setup\n",
        "  A github repository has been provided with a base set of data. You can use this data to accomplish the task, add your own repository, or connect via any API to Buffalo Open Data.\n",
        "\n",
        "### Polygons and Turfpy \n",
        "A library called Turfpy is being used to build and query a shape map of neighborhoods. You can also use it to find the distance between two coordinates, perform geocordinate transformations and other mapping operations. [Turfpy Docs](https://turfpy.readthedocs.io/en/latest/)\n",
        "\n",
        "## Data Reference\n",
        "\n",
        "All of the data is from Open Data Buffalo. Here are links directly to the documentation for each provided dataset. Note that some of our data has been filtered to decrease file size and all of the provided datasets have a 'neighborhood' column. \n",
        "\n",
        " [Neighborhood Metrics](https://data.buffalony.gov/Economic-Neighborhood-Development/Neighborhood-Metrics/adai-75jt) 'profile'\n",
        "\n",
        "[Crime Incidents](https://data.buffalony.gov/Public-Safety/Crime-Incidents/d6g9-xbgu) 'crime'\n",
        "\n",
        "[Public 311 Calls](https://data.buffalony.gov/Quality-of-Life/311-Service-Requests/whkc-e5vr) '311'\n",
        "\n",
        "[Historic Landmarks](https://data.buffalony.gov/Economic-Neighborhood-Development/Historic-Local-Landmarks/c3aq-3eh4) 'landmarks'\n",
        "\n",
        "You can access a named dataset easily using the provided function: `load_data_for_source(source_tag)`"
      ]
    },
    {
      "cell_type": "code",
      "metadata": {
        "colab": {
          "base_uri": "https://localhost:8080/"
        },
        "id": "TD23uKkcPiIa",
        "outputId": "a4afe8eb-d98e-4a62-feb7-c45d152ed692"
      },
      "source": [
        "!pip install turfpy"
      ],
      "execution_count": 97,
      "outputs": [
        {
          "output_type": "stream",
          "name": "stdout",
          "text": [
            "Requirement already satisfied: turfpy in /usr/local/lib/python3.7/dist-packages (0.0.7)\n",
            "Requirement already satisfied: shapely in /usr/local/lib/python3.7/dist-packages (from turfpy) (1.7.1)\n",
            "Requirement already satisfied: geojson in /usr/local/lib/python3.7/dist-packages (from turfpy) (2.5.0)\n",
            "Requirement already satisfied: scipy in /usr/local/lib/python3.7/dist-packages (from turfpy) (1.4.1)\n",
            "Requirement already satisfied: numpy in /usr/local/lib/python3.7/dist-packages (from turfpy) (1.19.5)\n"
          ]
        }
      ]
    },
    {
      "cell_type": "code",
      "metadata": {
        "colab": {
          "base_uri": "https://localhost:8080/"
        },
        "id": "__8McmgIs942",
        "outputId": "89d70dc4-6621-4618-9b1e-eeb34ed2a4af"
      },
      "source": [
        "!git clone https://github.com/28Protons/BuffStateDSAFall2021Challenge.git"
      ],
      "execution_count": 154,
      "outputs": [
        {
          "output_type": "stream",
          "name": "stdout",
          "text": [
            "Cloning into 'BuffStateDSAFall2021Challenge'...\n",
            "remote: Enumerating objects: 30, done.\u001b[K\n",
            "remote: Counting objects: 100% (30/30), done.\u001b[K\n",
            "remote: Compressing objects: 100% (28/28), done.\u001b[K\n",
            "remote: Total 30 (delta 9), reused 0 (delta 0), pack-reused 0\u001b[K\n",
            "Unpacking objects: 100% (30/30), done.\n"
          ]
        }
      ]
    },
    {
      "cell_type": "code",
      "metadata": {
        "colab": {
          "base_uri": "https://localhost:8080/"
        },
        "id": "lxSFatiHUO6a",
        "outputId": "7ab13957-6ecf-4a7f-f90b-3c1c836b8868"
      },
      "source": [
        "import pandas as pd\n",
        "from   turfpy.measurement import boolean_point_in_polygon\n",
        "from   geojson import Point, MultiPolygon, Feature\n",
        "from   os import path \n",
        "\n",
        "project_meta = {\n",
        "    \"map\":     \"/content/BuffStateDSAFall2021Challenge/neighborhoods.json\", #Docs \n",
        "    \"crime\":   \"/content/BuffStateDSAFall2021Challenge/crime_incidents.csv\",\n",
        "    \"311\":     \"/content/BuffStateDSAFall2021Challenge/public311.json\",\n",
        "    \"metrics\": \"/content/BuffStateDSAFall2021Challenge/neighborhood_metrics.csv\",\n",
        "    \"landmarks\": \"/content/BuffStateDSAFall2021Challenge/historic_landmarks.csv\"\n",
        "}\n",
        "\n",
        "def fill_neighborhood_map():\n",
        "    \"\"\"Fill the Neighborhood map.\n",
        "    Fill Shape Map with the 'shape_data' specified in project meta \n",
        "    \"\"\"\n",
        "    neighborhood_map = {}\n",
        "    neighborhood_map_data = load_data_for_source(\"map\")\n",
        "\n",
        "    for index, row in neighborhood_map_data.iterrows():\n",
        "        shapeMap = MultiPolygon(row.the_geom['coordinates'])\n",
        "        polygon  = Feature(geometry=shapeMap)\n",
        "        neighborhood_map[row.nbhdname] = polygon\n",
        "    \n",
        "    return neighborhood_map\n",
        "\n",
        "def find_neighborhood_by_point(neighborhood_map, point):\n",
        "    \"\"\"Given a point Feature,  find the neighborhood that point lives in\n",
        "    Feature(geometry=Point([-78.83889, 42.93353]))\n",
        "    Find the named shape within which a point resides. A brute force solution is provided\n",
        "    HINT: use boolean_point_in_polygon(pt, value) from turfpy\n",
        "    \"\"\"\n",
        "    ret_val = \"\"\n",
        "    for key, value in neighborhood_map.items():\n",
        "      status = boolean_point_in_polygon(point, value)\n",
        "    \n",
        "      if(status) :\n",
        "        ret_val = key\n",
        "        break\n",
        "    \n",
        "    return ret_val\n",
        "\n",
        "def load_data_for_source(source_tag,subkey=None):\n",
        "    \"\"\"Load Data for source.\n",
        "    Trivially read data from a source file. Data type is inferred from the file extension\n",
        "    Source Tag uses the project_meta dictionary to lookup the file name\n",
        "    \"\"\"\n",
        "    data_file = project_meta[source_tag]\n",
        "    file_ext  = path.splitext(data_file)[1]\n",
        "    if file_ext == \".csv\":\n",
        "      data_frame = pd.read_csv(data_file)\n",
        "    elif file_ext == \".json\":\n",
        "      data_frame = pd.read_json(data_file)\n",
        "    else:\n",
        "      raise Exception(f\"Couldn't load data file {data_file}. Is there an extension handler for {file_ext}\")\n",
        "\n",
        "    return data_frame\n",
        "\n",
        "def filter_data_by_neighborhood(data_frame, neighborhood):\n",
        "    \"\"\"Given a shape map labelled by neighborhood, a neighbhorhood label, and a data_fame with a neighborhood column\n",
        "    Return a filtered list as a dataframe of data by neighborhood\n",
        "    \"\"\"\n",
        "    return data_frame[data_frame['neighborhood'] == neighborhood]\n",
        "\n",
        "def show_summary_for_coordinates(coordinates):\n",
        "    \"\"\"Given a shape map labelled by neighborhood, a neighbhorhood label, and a data_fame with a neighborhood column\n",
        "    Return a filtered list as a dataframe of data by neighborhood\n",
        "    \"\"\"\n",
        "    map    = fill_neighborhood_map()\n",
        "    point  = Feature(geometry=Point(coords))\n",
        "\n",
        "    neighborhood = find_neighborhood_by_point(map, point)\n",
        "   \n",
        "    metrics_df   = load_data_for_source(\"metrics\")\n",
        "    metrics_df_filtered = filter_data_by_neighborhood(metrics_df, neighborhood)\n",
        "\n",
        "    crime_df = load_data_for_source(\"crime\")\n",
        "    crime_df_filtered = filter_data_by_neighborhood(crime_df, neighborhood)\n",
        "    \n",
        "    print(neighborhood)\n",
        "    print(\"-------------\")\n",
        "    print(metrics_df_filtered[['Employment Rate','Median Income','Percent Non-Family Households']])\n",
        "    print(\"-------------\")\n",
        "    print(crime_df_filtered['incident_type_primary'].value_counts())\n",
        "\n",
        "\n",
        "##Example usage\n",
        "coords = [-78.83889, 42.93353]\n",
        "show_summary_for_coordinates(coords)"
      ],
      "execution_count": 155,
      "outputs": [
        {
          "output_type": "stream",
          "name": "stdout",
          "text": [
            "Fillmore-Leroy\n",
            "-------------\n",
            "    Employment Rate  Median Income  Percent Non-Family Households\n",
            "11            82.79          22910                          45.19\n",
            "-------------\n",
            "LARCENY/THEFT        96\n",
            "ASSAULT              74\n",
            "BURGLARY             27\n",
            "UUV                  26\n",
            "ROBBERY              17\n",
            "MURDER                4\n",
            "THEFT OF SERVICES     1\n",
            "Name: incident_type_primary, dtype: int64\n"
          ]
        }
      ]
    },
    {
      "cell_type": "code",
      "metadata": {
        "id": "NEXQ1_XTSIBX"
      },
      "source": [
        ""
      ],
      "execution_count": null,
      "outputs": []
    }
  ]
}